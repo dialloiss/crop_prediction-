{
 "cells": [
  {
   "cell_type": "code",
   "execution_count": 179,
   "id": "e4ab38ba",
   "metadata": {},
   "outputs": [],
   "source": [
    "import pandas as pd \n",
    "from sklearn.preprocessing  import LabelEncoder,StandardScaler\n",
    "from sklearn.model_selection import train_test_split\n",
    "from sklearn.tree import DecisionTreeClassifier\n",
    "from sklearn.metrics import confusion_matrix,accuracy_score,recall_score,precision_score,f1_score\n",
    "from sklearn.decomposition import PCA\n",
    "from sklearn.discriminant_analysis import LinearDiscriminantAnalysis\n",
    "import joblib"
   ]
  },
  {
   "cell_type": "code",
   "execution_count": 63,
   "id": "2848072f",
   "metadata": {},
   "outputs": [],
   "source": [
    "# pca=PCA(n_components=None)\n",
    "# x_pca=pca.fit_transform(X_train)\n",
    "# xt_pca=pca.transform(X_test)"
   ]
  },
  {
   "cell_type": "code",
   "execution_count": 64,
   "id": "b8ea98bf",
   "metadata": {},
   "outputs": [
    {
     "data": {
      "text/plain": [
       "['0.279', '0.182', '0.154', '0.147', '0.114', '0.097', '0.027']"
      ]
     },
     "execution_count": 64,
     "metadata": {},
     "output_type": "execute_result"
    }
   ],
   "source": [
    "# explained_variance=pca.explained_variance_ratio_\n",
    "# formatted_array = [\"{:.3f}\".format(value) for value in explained_variance]\n",
    "# formatted_array"
   ]
  },
  {
   "cell_type": "code",
   "execution_count": 68,
   "id": "7c4f92a1",
   "metadata": {},
   "outputs": [],
   "source": [
    "# lda=LinearDiscriminantAnalysis(n_components=7)\n",
    "# x_trainlda=lda.fit_transform(X_train,Y_train)\n",
    "# x_testlda=lda.transform(X_test)"
   ]
  },
  {
   "cell_type": "code",
   "execution_count": 69,
   "id": "cc976981",
   "metadata": {},
   "outputs": [
    {
     "data": {
      "text/plain": [
       "DecisionTreeClassifier()"
      ]
     },
     "execution_count": 69,
     "metadata": {},
     "output_type": "execute_result"
    }
   ],
   "source": [
    "# ldamodel=DecisionTreeClassifier()\n",
    "# ldamodel.fit(x_trainlda,Y_train)"
   ]
  },
  {
   "cell_type": "code",
   "execution_count": 70,
   "id": "953a44d9",
   "metadata": {},
   "outputs": [],
   "source": [
    "# ldapred=ldamodel.predict(x_testlda)"
   ]
  },
  {
   "cell_type": "code",
   "execution_count": 71,
   "id": "75d3d840",
   "metadata": {},
   "outputs": [
    {
     "data": {
      "text/plain": [
       "0.9590909090909091"
      ]
     },
     "execution_count": 71,
     "metadata": {},
     "output_type": "execute_result"
    }
   ],
   "source": [
    "# accuracy_score(ldapred,Y_test)"
   ]
  },
  {
   "cell_type": "code",
   "execution_count": null,
   "id": "bfb59c5c",
   "metadata": {},
   "outputs": [],
   "source": []
  },
  {
   "cell_type": "code",
   "execution_count": null,
   "id": "d8cdd9af",
   "metadata": {},
   "outputs": [],
   "source": []
  },
  {
   "cell_type": "code",
   "execution_count": null,
   "id": "7c889ef4",
   "metadata": {},
   "outputs": [],
   "source": []
  },
  {
   "cell_type": "code",
   "execution_count": null,
   "id": "cb800930",
   "metadata": {},
   "outputs": [],
   "source": []
  },
  {
   "cell_type": "code",
   "execution_count": null,
   "id": "5d292063",
   "metadata": {},
   "outputs": [],
   "source": []
  },
  {
   "cell_type": "code",
   "execution_count": 2,
   "id": "246edc98",
   "metadata": {},
   "outputs": [],
   "source": [
    "data=pd.read_csv('Crop_recommendation.csv')"
   ]
  },
  {
   "cell_type": "code",
   "execution_count": 13,
   "id": "c512b94c",
   "metadata": {},
   "outputs": [
    {
     "name": "stdout",
     "output_type": "stream",
     "text": [
      "<class 'pandas.core.frame.DataFrame'>\n",
      "RangeIndex: 2200 entries, 0 to 2199\n",
      "Data columns (total 8 columns):\n",
      " #   Column       Non-Null Count  Dtype  \n",
      "---  ------       --------------  -----  \n",
      " 0   N            2200 non-null   int64  \n",
      " 1   P            2200 non-null   int64  \n",
      " 2   K            2200 non-null   int64  \n",
      " 3   temperature  2200 non-null   float64\n",
      " 4   humidity     2200 non-null   float64\n",
      " 5   ph           2200 non-null   float64\n",
      " 6   rainfall     2200 non-null   float64\n",
      " 7   label        2200 non-null   object \n",
      "dtypes: float64(4), int64(3), object(1)\n",
      "memory usage: 137.6+ KB\n"
     ]
    }
   ],
   "source": [
    "data.info()"
   ]
  },
  {
   "cell_type": "code",
   "execution_count": 14,
   "id": "db2e5c7b",
   "metadata": {},
   "outputs": [
    {
     "data": {
      "text/html": [
       "<div>\n",
       "<style scoped>\n",
       "    .dataframe tbody tr th:only-of-type {\n",
       "        vertical-align: middle;\n",
       "    }\n",
       "\n",
       "    .dataframe tbody tr th {\n",
       "        vertical-align: top;\n",
       "    }\n",
       "\n",
       "    .dataframe thead th {\n",
       "        text-align: right;\n",
       "    }\n",
       "</style>\n",
       "<table border=\"1\" class=\"dataframe\">\n",
       "  <thead>\n",
       "    <tr style=\"text-align: right;\">\n",
       "      <th></th>\n",
       "      <th>N</th>\n",
       "      <th>P</th>\n",
       "      <th>K</th>\n",
       "      <th>temperature</th>\n",
       "      <th>humidity</th>\n",
       "      <th>ph</th>\n",
       "      <th>rainfall</th>\n",
       "      <th>label</th>\n",
       "    </tr>\n",
       "  </thead>\n",
       "  <tbody>\n",
       "    <tr>\n",
       "      <th>0</th>\n",
       "      <td>90</td>\n",
       "      <td>42</td>\n",
       "      <td>43</td>\n",
       "      <td>20.879744</td>\n",
       "      <td>82.002744</td>\n",
       "      <td>6.502985</td>\n",
       "      <td>202.935536</td>\n",
       "      <td>rice</td>\n",
       "    </tr>\n",
       "    <tr>\n",
       "      <th>1</th>\n",
       "      <td>85</td>\n",
       "      <td>58</td>\n",
       "      <td>41</td>\n",
       "      <td>21.770462</td>\n",
       "      <td>80.319644</td>\n",
       "      <td>7.038096</td>\n",
       "      <td>226.655537</td>\n",
       "      <td>rice</td>\n",
       "    </tr>\n",
       "    <tr>\n",
       "      <th>2</th>\n",
       "      <td>60</td>\n",
       "      <td>55</td>\n",
       "      <td>44</td>\n",
       "      <td>23.004459</td>\n",
       "      <td>82.320763</td>\n",
       "      <td>7.840207</td>\n",
       "      <td>263.964248</td>\n",
       "      <td>rice</td>\n",
       "    </tr>\n",
       "    <tr>\n",
       "      <th>3</th>\n",
       "      <td>74</td>\n",
       "      <td>35</td>\n",
       "      <td>40</td>\n",
       "      <td>26.491096</td>\n",
       "      <td>80.158363</td>\n",
       "      <td>6.980401</td>\n",
       "      <td>242.864034</td>\n",
       "      <td>rice</td>\n",
       "    </tr>\n",
       "    <tr>\n",
       "      <th>4</th>\n",
       "      <td>78</td>\n",
       "      <td>42</td>\n",
       "      <td>42</td>\n",
       "      <td>20.130175</td>\n",
       "      <td>81.604873</td>\n",
       "      <td>7.628473</td>\n",
       "      <td>262.717340</td>\n",
       "      <td>rice</td>\n",
       "    </tr>\n",
       "    <tr>\n",
       "      <th>...</th>\n",
       "      <td>...</td>\n",
       "      <td>...</td>\n",
       "      <td>...</td>\n",
       "      <td>...</td>\n",
       "      <td>...</td>\n",
       "      <td>...</td>\n",
       "      <td>...</td>\n",
       "      <td>...</td>\n",
       "    </tr>\n",
       "    <tr>\n",
       "      <th>2195</th>\n",
       "      <td>107</td>\n",
       "      <td>34</td>\n",
       "      <td>32</td>\n",
       "      <td>26.774637</td>\n",
       "      <td>66.413269</td>\n",
       "      <td>6.780064</td>\n",
       "      <td>177.774507</td>\n",
       "      <td>coffee</td>\n",
       "    </tr>\n",
       "    <tr>\n",
       "      <th>2196</th>\n",
       "      <td>99</td>\n",
       "      <td>15</td>\n",
       "      <td>27</td>\n",
       "      <td>27.417112</td>\n",
       "      <td>56.636362</td>\n",
       "      <td>6.086922</td>\n",
       "      <td>127.924610</td>\n",
       "      <td>coffee</td>\n",
       "    </tr>\n",
       "    <tr>\n",
       "      <th>2197</th>\n",
       "      <td>118</td>\n",
       "      <td>33</td>\n",
       "      <td>30</td>\n",
       "      <td>24.131797</td>\n",
       "      <td>67.225123</td>\n",
       "      <td>6.362608</td>\n",
       "      <td>173.322839</td>\n",
       "      <td>coffee</td>\n",
       "    </tr>\n",
       "    <tr>\n",
       "      <th>2198</th>\n",
       "      <td>117</td>\n",
       "      <td>32</td>\n",
       "      <td>34</td>\n",
       "      <td>26.272418</td>\n",
       "      <td>52.127394</td>\n",
       "      <td>6.758793</td>\n",
       "      <td>127.175293</td>\n",
       "      <td>coffee</td>\n",
       "    </tr>\n",
       "    <tr>\n",
       "      <th>2199</th>\n",
       "      <td>104</td>\n",
       "      <td>18</td>\n",
       "      <td>30</td>\n",
       "      <td>23.603016</td>\n",
       "      <td>60.396475</td>\n",
       "      <td>6.779833</td>\n",
       "      <td>140.937041</td>\n",
       "      <td>coffee</td>\n",
       "    </tr>\n",
       "  </tbody>\n",
       "</table>\n",
       "<p>2200 rows × 8 columns</p>\n",
       "</div>"
      ],
      "text/plain": [
       "        N   P   K  temperature   humidity        ph    rainfall   label\n",
       "0      90  42  43    20.879744  82.002744  6.502985  202.935536    rice\n",
       "1      85  58  41    21.770462  80.319644  7.038096  226.655537    rice\n",
       "2      60  55  44    23.004459  82.320763  7.840207  263.964248    rice\n",
       "3      74  35  40    26.491096  80.158363  6.980401  242.864034    rice\n",
       "4      78  42  42    20.130175  81.604873  7.628473  262.717340    rice\n",
       "...   ...  ..  ..          ...        ...       ...         ...     ...\n",
       "2195  107  34  32    26.774637  66.413269  6.780064  177.774507  coffee\n",
       "2196   99  15  27    27.417112  56.636362  6.086922  127.924610  coffee\n",
       "2197  118  33  30    24.131797  67.225123  6.362608  173.322839  coffee\n",
       "2198  117  32  34    26.272418  52.127394  6.758793  127.175293  coffee\n",
       "2199  104  18  30    23.603016  60.396475  6.779833  140.937041  coffee\n",
       "\n",
       "[2200 rows x 8 columns]"
      ]
     },
     "execution_count": 14,
     "metadata": {},
     "output_type": "execute_result"
    }
   ],
   "source": [
    "data"
   ]
  },
  {
   "cell_type": "markdown",
   "id": "59824833",
   "metadata": {},
   "source": [
    "<h1>N - ratio of Nitrogen content in soil</br>\n",
    "P - ratio of Phosphorous content in soil</br>\n",
    "K - ratio of Potassium content in soil</br>\n",
    "temperature - temperature in degree Celsius</br>\n",
    "humidity - relative humidity in %</br>\n",
    "ph - ph value of the soil</br>\n",
    "rainfall - rainfall in mm </h1>"
   ]
  },
  {
   "cell_type": "code",
   "execution_count": 155,
   "id": "ddef5d83",
   "metadata": {},
   "outputs": [],
   "source": [
    "X=data.iloc[:,0:7].values\n",
    "Y=data.iloc[:,7]"
   ]
  },
  {
   "cell_type": "code",
   "execution_count": 156,
   "id": "13918caa",
   "metadata": {},
   "outputs": [
    {
     "data": {
      "text/plain": [
       "22"
      ]
     },
     "execution_count": 156,
     "metadata": {},
     "output_type": "execute_result"
    }
   ],
   "source": [
    "len(Y.unique())"
   ]
  },
  {
   "cell_type": "code",
   "execution_count": 22,
   "id": "c9bba5f1",
   "metadata": {},
   "outputs": [],
   "source": [
    "labelencoder=LabelEncoder()\n",
    "Y=labelencoder.fit_transform(Y)"
   ]
  },
  {
   "cell_type": "code",
   "execution_count": 25,
   "id": "9fdc8ec0",
   "metadata": {},
   "outputs": [],
   "source": [
    "X_train,X_test,Y_train,Y_test=train_test_split(X,Y,test_size=0.2)"
   ]
  },
  {
   "cell_type": "code",
   "execution_count": 28,
   "id": "8edfb883",
   "metadata": {},
   "outputs": [],
   "source": [
    "sc=StandardScaler()\n",
    "X_train=sc.fit_transform(X_train)\n",
    "X_test=sc.transform(X_test)"
   ]
  },
  {
   "cell_type": "code",
   "execution_count": 32,
   "id": "81b9f017",
   "metadata": {},
   "outputs": [
    {
     "data": {
      "text/plain": [
       "DecisionTreeClassifier()"
      ]
     },
     "execution_count": 32,
     "metadata": {},
     "output_type": "execute_result"
    }
   ],
   "source": [
    "treemodel=DecisionTreeClassifier()\n",
    "treemodel.fit(X_train,Y_train)"
   ]
  },
  {
   "cell_type": "code",
   "execution_count": 176,
   "id": "b82216ae",
   "metadata": {},
   "outputs": [],
   "source": [
    "pred=treemodel.predict(X_test)\n"
   ]
  },
  {
   "cell_type": "code",
   "execution_count": 180,
   "id": "480b6f78",
   "metadata": {},
   "outputs": [
    {
     "data": {
      "text/plain": [
       "0.975"
      ]
     },
     "execution_count": 180,
     "metadata": {},
     "output_type": "execute_result"
    }
   ],
   "source": [
    "accuracy_score(pred,Y_test)\n",
    "recall_score(pred,Y_test ,average=None, zero_division=1)\n",
    "# precision_score(pred,Y_test ,average=None, zero_division=1)\n",
    "f1_score(pred,Y_test, average='micro')\n"
   ]
  },
  {
   "cell_type": "code",
   "execution_count": 59,
   "id": "40f2b1dc",
   "metadata": {},
   "outputs": [
    {
     "data": {
      "text/plain": [
       "array(['mungbean'], dtype=object)"
      ]
     },
     "execution_count": 59,
     "metadata": {},
     "output_type": "execute_result"
    }
   ],
   "source": [
    "labelencoder.inverse_transform([Y_test[1]])"
   ]
  },
  {
   "cell_type": "code",
   "execution_count": 58,
   "id": "e03526bb",
   "metadata": {},
   "outputs": [
    {
     "data": {
      "text/plain": [
       "array(['mungbean'], dtype=object)"
      ]
     },
     "execution_count": 58,
     "metadata": {},
     "output_type": "execute_result"
    }
   ],
   "source": [
    "labelencoder.inverse_transform(treemodel.predict([X_test[1]]))"
   ]
  },
  {
   "cell_type": "code",
   "execution_count": 40,
   "id": "78fa7dd9",
   "metadata": {},
   "outputs": [
    {
     "name": "stdout",
     "output_type": "stream",
     "text": [
      "[18  0  0  0  0  0  0  0  0  0  0  0  0  0  0  0  0  0  0  0  0  0]\n",
      "[ 0 21  0  0  0  0  0  0  0  0  0  0  0  0  0  0  0  0  0  0  0  0]\n",
      "[ 0  0 22  0  0  0  0  0  0  0  1  0  0  1  0  0  0  0  0  0  0  0]\n",
      "[ 0  0  0 24  0  0  0  0  0  0  0  0  0  0  0  0  0  0  0  0  0  0]\n",
      "[ 0  0  0  0 21  0  0  0  0  0  0  0  0  0  0  0  0  0  0  0  0  0]\n",
      "[ 0  0  0  0  0 14  0  0  0  0  0  0  0  0  0  0  0  0  0  0  0  0]\n",
      "[ 0  0  0  0  0  0 19  0  0  0  0  0  0  0  0  0  0  0  0  0  0  0]\n",
      "[ 0  0  0  0  0  0  0 13  0  0  0  0  0  0  0  0  0  0  0  0  0  0]\n",
      "[ 0  0  0  0  0  0  0  0 17  0  0  0  0  0  0  0  0  0  0  0  2  0]\n",
      "[ 0  0  0  0  0  0  0  0  0 23  0  0  0  0  0  0  0  0  0  0  0  0]\n",
      "[ 0  0  1  0  0  0  0  0  0  0 23  0  0  1  0  0  0  0  0  0  0  0]\n",
      "[ 0  0  1  0  0  0  0  0  0  0  0 20  0  0  0  0  0  0  0  0  0  0]\n",
      "[ 0  0  0  0  0  0  0  0  0  0  0  0 16  0  0  0  0  0  0  0  0  0]\n",
      "[ 0  0  0  0  0  0  0  0  0  0  1  0  0 15  0  0  0  0  0  0  0  0]\n",
      "[ 0  0  0  0  0  0  0  0  0  0  0  0  0  0 16  0  0  0  0  0  0  0]\n",
      "[ 0  0  0  0  0  0  0  0  0  0  0  0  0  0  0 21  0  0  0  0  0  0]\n",
      "[ 0  0  0  0  0  0  0  0  0  0  0  0  0  0  0  0 19  0  0  0  0  0]\n",
      "[ 0  0  0  0  0  0  0  0  0  0  0  0  0  0  0  0  0 19  0  0  0  0]\n",
      "[ 0  0  0  0  0  0  0  0  0  0  0  0  0  0  0  0  0  0 24  0  0  0]\n",
      "[ 0  0  0  0  0  0  0  0  0  0  0  0  0  0  0  0  0  0  0 20  0  0]\n",
      "[ 0  0  0  0  0  0  0  0  3  0  0  0  0  0  0  0  0  0  0  0 17  0]\n",
      "[ 0  0  0  0  0  0  0  0  0  0  0  0  0  0  0  0  0  0  0  0  0 27]\n"
     ]
    }
   ],
   "source": [
    "for ok in confusion_matrix(pred,Y_test):\n",
    "    print(ok)"
   ]
  },
  {
   "cell_type": "code",
   "execution_count": 77,
   "id": "ead536cd",
   "metadata": {},
   "outputs": [
    {
     "data": {
      "text/plain": [
       "['labelencoder.pkl']"
      ]
     },
     "execution_count": 77,
     "metadata": {},
     "output_type": "execute_result"
    }
   ],
   "source": [
    "joblib.dump(labelencoder, 'labelencoder.pkl')"
   ]
  },
  {
   "cell_type": "code",
   "execution_count": 78,
   "id": "50aae495",
   "metadata": {},
   "outputs": [
    {
     "data": {
      "text/plain": [
       "['standarscaler.pkl']"
      ]
     },
     "execution_count": 78,
     "metadata": {},
     "output_type": "execute_result"
    }
   ],
   "source": [
    "joblib.dump(sc, 'standarscaler.pkl')"
   ]
  },
  {
   "cell_type": "code",
   "execution_count": 75,
   "id": "c1f3b4b3",
   "metadata": {},
   "outputs": [
    {
     "data": {
      "text/plain": [
       "['decision_tree_model.pkl']"
      ]
     },
     "execution_count": 75,
     "metadata": {},
     "output_type": "execute_result"
    }
   ],
   "source": [
    "joblib.dump(treemodel, 'decision_tree_model.pkl')"
   ]
  },
  {
   "cell_type": "markdown",
   "id": "5ea221b9",
   "metadata": {},
   "source": [
    "<h1> Decision Tree gave a very good result  that might not be beatten but lets try a deep learning model</h1>"
   ]
  },
  {
   "cell_type": "code",
   "execution_count": 106,
   "id": "97c4aef5",
   "metadata": {},
   "outputs": [],
   "source": [
    "import torch \n",
    "import pytorch_lightning as PL\n",
    "import torch.nn as nn \n",
    "import torch.nn.functional as F\n",
    "import torch.optim as optim\n",
    "from torch.utils.data import Dataset,DataLoader\n",
    "from torchmetrics.functional import accuracy"
   ]
  },
  {
   "cell_type": "code",
   "execution_count": 165,
   "id": "a3235843",
   "metadata": {},
   "outputs": [],
   "source": [
    "class DeepModel(PL.LightningModule):\n",
    "    def __init__(self):\n",
    "        super().__init__()\n",
    "        self.hidden1=nn.Linear(7,10)\n",
    "        self.act1=nn.ReLU()\n",
    "        self.hidden2=nn.Linear(10,10)\n",
    "        self.act2=nn.ReLU()\n",
    "        self.out=nn.Linear(10,22)\n",
    "#         self.actout=F.softmax()\n",
    "    def forward(self,x):\n",
    "        x = x.to(self.hidden1.weight.dtype)\n",
    "        x=self.hidden1(x)\n",
    "        x=self.act1(x)\n",
    "        x=self.hidden2(x)\n",
    "        x=self.act2(x)\n",
    "        return F.softmax(self.out(x))\n",
    "    def training_step(self, batch, batch_nb):\n",
    "        x, y = batch\n",
    "        logits = self(x)\n",
    "        loss = F.cross_entropy(logits, y)\n",
    "        pred = logits.argmax(dim=1)\n",
    "        acc = accuracy(pred, y,task='multiclass', num_classes=22)\n",
    "        return loss \n",
    "    def configure_optimizers(self):\n",
    "        return optim.Adam(self.parameters(), lr=0.01)"
   ]
  },
  {
   "cell_type": "code",
   "execution_count": 166,
   "id": "b9060135",
   "metadata": {},
   "outputs": [],
   "source": [
    "deepmodel=DeepModel()"
   ]
  },
  {
   "cell_type": "code",
   "execution_count": 167,
   "id": "7a769b92",
   "metadata": {},
   "outputs": [],
   "source": [
    "class Predata(Dataset):\n",
    "    def __init__(self,X,Y):\n",
    "        super().__init__()\n",
    "        self.X=torch.tensor(X)\n",
    "        self.Y=torch.LongTensor(Y)\n",
    "    def __len__(self):\n",
    "        return len(self.X)\n",
    "    def __getitem__(self,index):\n",
    "        x=self.X[index]\n",
    "        y=self.Y[index]\n",
    "        return x,y"
   ]
  },
  {
   "cell_type": "code",
   "execution_count": 168,
   "id": "aa8bfbb9",
   "metadata": {},
   "outputs": [],
   "source": [
    "trainingset=Predata(X_train,Y_train)\n",
    "testinngset=Predata(X_test,Y_test)"
   ]
  },
  {
   "cell_type": "code",
   "execution_count": 169,
   "id": "a7a8bbbd",
   "metadata": {},
   "outputs": [],
   "source": [
    "train_loader=DataLoader(trainingset,10)"
   ]
  },
  {
   "cell_type": "code",
   "execution_count": 170,
   "id": "51c73615",
   "metadata": {},
   "outputs": [
    {
     "name": "stderr",
     "output_type": "stream",
     "text": [
      "GPU available: False, used: False\n",
      "TPU available: False, using: 0 TPU cores\n",
      "IPU available: False, using: 0 IPUs\n",
      "HPU available: False, using: 0 HPUs\n"
     ]
    }
   ],
   "source": [
    "trainer = PL.Trainer(max_epochs=50, accelerator='cpu')"
   ]
  },
  {
   "cell_type": "code",
   "execution_count": 171,
   "id": "83232917",
   "metadata": {},
   "outputs": [
    {
     "name": "stderr",
     "output_type": "stream",
     "text": [
      "\n",
      "  | Name    | Type   | Params\n",
      "-----------------------------------\n",
      "0 | hidden1 | Linear | 80    \n",
      "1 | act1    | ReLU   | 0     \n",
      "2 | hidden2 | Linear | 110   \n",
      "3 | act2    | ReLU   | 0     \n",
      "4 | out     | Linear | 242   \n",
      "-----------------------------------\n",
      "432       Trainable params\n",
      "0         Non-trainable params\n",
      "432       Total params\n",
      "0.002     Total estimated model params size (MB)\n"
     ]
    },
    {
     "data": {
      "application/vnd.jupyter.widget-view+json": {
       "model_id": "0266bf277ba64d47bc964ed6b4a10ef3",
       "version_major": 2,
       "version_minor": 0
      },
      "text/plain": [
       "Training: 0it [00:00, ?it/s]"
      ]
     },
     "metadata": {},
     "output_type": "display_data"
    },
    {
     "name": "stderr",
     "output_type": "stream",
     "text": [
      "C:\\Users\\hp\\AppData\\Local\\Temp\\ipykernel_42104\\3905046773.py:16: UserWarning: Implicit dimension choice for softmax has been deprecated. Change the call to include dim=X as an argument.\n",
      "  return F.softmax(self.out(x))\n",
      "`Trainer.fit` stopped: `max_epochs=50` reached.\n"
     ]
    }
   ],
   "source": [
    "trainer.fit(deepmodel, train_loader)"
   ]
  },
  {
   "cell_type": "code",
   "execution_count": 161,
   "id": "8192865b",
   "metadata": {},
   "outputs": [],
   "source": [
    "testx=[]\n",
    "testy=[]\n",
    "for ok in testinngset:\n",
    "    ok=list(ok)\n",
    "    testx.append(ok[0])\n",
    "    testy.append(ok[1])"
   ]
  },
  {
   "cell_type": "code",
   "execution_count": 172,
   "id": "9c2229eb",
   "metadata": {},
   "outputs": [
    {
     "name": "stderr",
     "output_type": "stream",
     "text": [
      "C:\\Users\\hp\\AppData\\Local\\Temp\\ipykernel_42104\\3905046773.py:16: UserWarning: Implicit dimension choice for softmax has been deprecated. Change the call to include dim=X as an argument.\n",
      "  return F.softmax(self.out(x))\n"
     ]
    }
   ],
   "source": [
    "total=len(testx)\n",
    "correct=0\n",
    "for myx,myy in zip(testx,testy):\n",
    "    out=deepmodel(myx)\n",
    "    pred=out.argmax()\n",
    "    if pred==myy:\n",
    "        correct+=1"
   ]
  },
  {
   "cell_type": "code",
   "execution_count": 173,
   "id": "b4bc491c",
   "metadata": {},
   "outputs": [
    {
     "data": {
      "text/plain": [
       "0.9068181818181819"
      ]
     },
     "execution_count": 173,
     "metadata": {},
     "output_type": "execute_result"
    }
   ],
   "source": [
    "correct/total"
   ]
  },
  {
   "cell_type": "code",
   "execution_count": 174,
   "id": "1ff0faef",
   "metadata": {},
   "outputs": [],
   "source": [
    "# torch.save(deepmodel, 'torch_model.pt')"
   ]
  },
  {
   "cell_type": "code",
   "execution_count": 186,
   "id": "9c6312d8",
   "metadata": {},
   "outputs": [
    {
     "data": {
      "text/plain": [
       "(tensor([-0.3320, -0.5259, -0.5381,  0.4715,  0.5985,  0.1128, -1.2281],\n",
       "        dtype=torch.float64),\n",
       " tensor(14))"
      ]
     },
     "execution_count": 186,
     "metadata": {},
     "output_type": "execute_result"
    }
   ],
   "source": [
    "testx[1],testy[1]"
   ]
  },
  {
   "cell_type": "code",
   "execution_count": 187,
   "id": "aa3e5649",
   "metadata": {},
   "outputs": [
    {
     "name": "stderr",
     "output_type": "stream",
     "text": [
      "C:\\Users\\hp\\AppData\\Local\\Temp\\ipykernel_42104\\3905046773.py:16: UserWarning: Implicit dimension choice for softmax has been deprecated. Change the call to include dim=X as an argument.\n",
      "  return F.softmax(self.out(x))\n"
     ]
    },
    {
     "data": {
      "text/plain": [
       "(tensor([4.8577e-18, 3.2707e-31, 3.2088e-21, 8.7944e-40, 0.0000e+00, 0.0000e+00,\n",
       "         0.0000e+00, 4.4128e-19, 2.3375e-40, 0.0000e+00, 1.0922e-14, 0.0000e+00,\n",
       "         2.7929e-40, 8.6242e-22, 1.0000e+00, 2.4338e-32, 3.5859e-23, 3.2342e-26,\n",
       "         1.1491e-43, 1.9343e-24, 0.0000e+00, 0.0000e+00],\n",
       "        grad_fn=<SoftmaxBackward0>),\n",
       " tensor(14))"
      ]
     },
     "execution_count": 187,
     "metadata": {},
     "output_type": "execute_result"
    }
   ],
   "source": [
    "deepmodel(testx[1]),deepmodel(testx[1]).argmax()"
   ]
  }
 ],
 "metadata": {
  "kernelspec": {
   "display_name": "Python 3 (ipykernel)",
   "language": "python",
   "name": "python3"
  },
  "language_info": {
   "codemirror_mode": {
    "name": "ipython",
    "version": 3
   },
   "file_extension": ".py",
   "mimetype": "text/x-python",
   "name": "python",
   "nbconvert_exporter": "python",
   "pygments_lexer": "ipython3",
   "version": "3.9.13"
  }
 },
 "nbformat": 4,
 "nbformat_minor": 5
}
